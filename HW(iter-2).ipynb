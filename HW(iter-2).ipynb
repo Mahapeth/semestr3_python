{
 "cells": [
  {
   "cell_type": "markdown",
   "metadata": {},
   "source": [
    "# Домашнее задание №3"
   ]
  },
  {
   "cell_type": "markdown",
   "metadata": {},
   "source": [
    "## Задание 2"
   ]
  },
  {
   "cell_type": "code",
   "execution_count": 7,
   "metadata": {},
   "outputs": [
    {
     "name": "stdout",
     "output_type": "stream",
     "text": [
      "['a', 'b', 'c', 'd', 'e', 'f', 'g', 'a', 'b', 'c']\n"
     ]
    }
   ],
   "source": [
    "class MyCircle:\n",
    "    def __init__(self, i, c):\n",
    "        self.i = i\n",
    "        self.c = c\n",
    "    def __iter__(self):\n",
    "        return MyCircleIterator(self.i, self.c)\n",
    "class MyCircleIterator:\n",
    "    def __init__(self, i, c):\n",
    "        self.i = i\n",
    "        self.c = c\n",
    "        self.itrbl = 0\n",
    "    def __iter__(self):\n",
    "        return self\n",
    "    def __next__(self):\n",
    "        if self.itrbl < self.c:\n",
    "            iterable = self.itrbl\n",
    "            self.itrbl += 1\n",
    "            return self.i[iterable % len(self.i)]\n",
    "        else:\n",
    "            raise StopIteration\n",
    "a = MyCircle('abcdefg', 10)\n",
    "print(list(a))"
   ]
  },
  {
   "cell_type": "code",
   "execution_count": null,
   "metadata": {},
   "outputs": [],
   "source": []
  }
 ],
 "metadata": {
  "kernelspec": {
   "display_name": "Python 3",
   "language": "python",
   "name": "python3"
  },
  "language_info": {
   "codemirror_mode": {
    "name": "ipython",
    "version": 3
   },
   "file_extension": ".py",
   "mimetype": "text/x-python",
   "name": "python",
   "nbconvert_exporter": "python",
   "pygments_lexer": "ipython3",
   "version": "3.7.4"
  }
 },
 "nbformat": 4,
 "nbformat_minor": 4
}
