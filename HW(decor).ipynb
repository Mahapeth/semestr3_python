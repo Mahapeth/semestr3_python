{
 "cells": [
  {
   "cell_type": "markdown",
   "metadata": {},
   "source": [
    "# Домашнее задание №2"
   ]
  },
  {
   "cell_type": "markdown",
   "metadata": {},
   "source": [
    "## Задание 1"
   ]
  },
  {
   "cell_type": "code",
   "execution_count": 4,
   "metadata": {},
   "outputs": [
    {
     "name": "stdout",
     "output_type": "stream",
     "text": [
      "вы вызвали функцию function(4, 4, 4)\n",
      "она вернула значение 6\n",
      "6\n"
     ]
    }
   ],
   "source": [
    "def log(func):\n",
    "    def function1(*args, **kwargs):\n",
    "        print(f'вы вызвали функцию {func.__name__}{args}')\n",
    "        print(f'она вернула значение {func(*args, **kwargs)}')\n",
    "        return func(*args, **kwargs)\n",
    "    return function1\n",
    "@log\n",
    "def function(*args):\n",
    "    return 3 + len(args)\n",
    "print(function(4, 4, 4))"
   ]
  },
  {
   "cell_type": "code",
   "execution_count": null,
   "metadata": {},
   "outputs": [],
   "source": []
  }
 ],
 "metadata": {
  "kernelspec": {
   "display_name": "Python 3",
   "language": "python",
   "name": "python3"
  },
  "language_info": {
   "codemirror_mode": {
    "name": "ipython",
    "version": 3
   },
   "file_extension": ".py",
   "mimetype": "text/x-python",
   "name": "python",
   "nbconvert_exporter": "python",
   "pygments_lexer": "ipython3",
   "version": "3.7.4"
  }
 },
 "nbformat": 4,
 "nbformat_minor": 4
}
