{
 "cells": [
  {
   "cell_type": "markdown",
   "metadata": {},
   "source": [
    "# Доклад №2"
   ]
  },
  {
   "cell_type": "markdown",
   "metadata": {},
   "source": [
    "## Задание\n",
    "### Дана произвольная строка. Вывести наименее часто встречающиеся элементы(без использования reverse)."
   ]
  },
  {
   "cell_type": "code",
   "execution_count": 4,
   "metadata": {},
   "outputs": [
    {
     "name": "stdout",
     "output_type": "stream",
     "text": [
      "hsb05\n",
      "Counter({'h': 1, 's': 1, 'b': 1, '0': 1, '5': 1})\n",
      "['h', 's', 'b', '0', '5']\n"
     ]
    }
   ],
   "source": [
    "import random\n",
    "import collections \n",
    "import string\n",
    "\n",
    "def st(size = random.randint(1,10), chars = string.ascii_lowercase + string.digits):\n",
    "    return ''.join(random.choice(chars) for _ in range(size))\n",
    "stt = st()\n",
    "print(stt)\n",
    "\n",
    "c = collections.Counter(stt)\n",
    "print(c)\n",
    "\n",
    "result =[x[0]  for x  in c.items() if x[1]==1]\n",
    "print(result)"
   ]
  }
 ],
 "metadata": {
  "kernelspec": {
   "display_name": "",
   "name": ""
  },
  "language_info": {
   "codemirror_mode": {
    "name": "ipython",
    "version": 3
   },
   "file_extension": ".py",
   "mimetype": "text/x-python",
   "name": "python",
   "nbconvert_exporter": "python",
   "pygments_lexer": "ipython3",
   "version": "3.7.4"
  }
 },
 "nbformat": 4,
 "nbformat_minor": 4
}
