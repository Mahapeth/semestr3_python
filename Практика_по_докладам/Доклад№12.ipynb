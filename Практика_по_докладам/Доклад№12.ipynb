{
 "cells": [
  {
   "cell_type": "markdown",
   "metadata": {},
   "source": [
    "# Практика по докладу №12"
   ]
  },
  {
   "cell_type": "markdown",
   "metadata": {},
   "source": [
    "## Задание №1\n",
    "Создайте свой класс и с помощью pickle запишите его в файл под название \"MyClassInFile\""
   ]
  },
  {
   "cell_type": "code",
   "execution_count": 1,
   "metadata": {},
   "outputs": [],
   "source": [
    "import pickle\n",
    "\n",
    "class class_one:\n",
    "    class_data = {'a'}\n",
    "    def funk(class_data):\n",
    "        return class_data\n",
    "class_class = class_one()\n",
    "\n",
    "with open('MyClassInFile.pickle', 'wb') as f:\n",
    "    pickle.dump(class_class, f)"
   ]
  },
  {
   "cell_type": "markdown",
   "metadata": {},
   "source": [
    "## Задание №2\n",
    "С помощью shelve создайте файл \"MyFavoriteMovies\", и запишите в него названия своих любимых фильмов. В качестве ключей используйте имена режисеров"
   ]
  },
  {
   "cell_type": "code",
   "execution_count": 2,
   "metadata": {},
   "outputs": [
    {
     "name": "stdout",
     "output_type": "stream",
     "text": [
      "Джефф Уодлоу  :  Никогда не сдавайся\n",
      "Филлип Нойс  :  Посвященный\n",
      "Дэвид Финчер  :  Бойцовский клуб\n",
      "Джефф Томсич  :  Ты водишь!\n"
     ]
    }
   ],
   "source": [
    "import shelve\n",
    "\n",
    "with shelve.open(\"MyFavoriteMovies\") as Movies:\n",
    "    Movies[\"Джефф Уодлоу\"] = \"Никогда не сдавайся\"\n",
    "    Movies[\"Филлип Нойс\"] = \"Посвященный\"\n",
    "    Movies[\"Дэвид Финчер\"] = \"Бойцовский клуб\"\n",
    "    Movies[\"Джефф Томсич\"] = \"Ты водишь!\"\n",
    "    \n",
    "with shelve.open(\"MyFavoriteMovies\") as Movies:\n",
    "    for key in Movies:\n",
    "        print(key,\" : \", Movies[key])"
   ]
  },
  {
   "cell_type": "markdown",
   "metadata": {},
   "source": [
    "## Задание №3\n",
    "Создайте таблицу employees и заполните ее данными, как на картинке. Повысьте зарплату на 1000 долларов всем работикам младше 30 лет и удалите из таблицы работников старше 40"
   ]
  },
  {
   "cell_type": "code",
   "execution_count": 11,
   "metadata": {},
   "outputs": [
    {
     "data": {
      "text/plain": [
       "<sqlite3.Cursor at 0x263b8b8cc00>"
      ]
     },
     "execution_count": 11,
     "metadata": {},
     "output_type": "execute_result"
    }
   ],
   "source": [
    "import sqlite3\n",
    "conn = sqlite3.connect(\"mydatabase.db\")\n",
    "cursor = conn.cursor()\n",
    "cursor.execute(\"CREATE TABLE employee (name text, salary$ text, age text)\")"
   ]
  },
  {
   "cell_type": "code",
   "execution_count": 12,
   "metadata": {},
   "outputs": [],
   "source": [
    "employ = [('John Doe', '5000', '35'),\n",
    "          ('Marie Paige', '6000', '25'),\n",
    "          ('Megan Flores', '3000', '29'),\n",
    "          ('Harmony Simmons', '4000', '42')]"
   ]
  },
  {
   "cell_type": "code",
   "execution_count": 13,
   "metadata": {},
   "outputs": [
    {
     "data": {
      "text/plain": [
       "[(2, 'Marie Paige', '6000', '25'),\n",
       " (3, 'Megan Flores', '3000', '29'),\n",
       " (1, 'John Doe', '5000', '35'),\n",
       " (4, 'Harmony Simmons', '4000', '42')]"
      ]
     },
     "execution_count": 13,
     "metadata": {},
     "output_type": "execute_result"
    }
   ],
   "source": [
    "cursor.executemany(\"INSERT INTO employee VALUES (?,?,?)\", employ)\n",
    "conn.commit()\n",
    "sel = \"SELECT rowid, * FROM employee ORDER BY age\"\n",
    "cursor.execute(sel)\n",
    "cursor.fetchall()"
   ]
  },
  {
   "cell_type": "code",
   "execution_count": 14,
   "metadata": {},
   "outputs": [
    {
     "data": {
      "text/plain": [
       "[(2, 'Marie Paige', '6000', '25'),\n",
       " (3, 'Megan Flores', '3000', '29'),\n",
       " (1, 'John Doe', '5000', '35')]"
      ]
     },
     "execution_count": 14,
     "metadata": {},
     "output_type": "execute_result"
    }
   ],
   "source": [
    "sel = \"DELETE FROM employee WHERE age >= '40'\"\n",
    "cursor.execute(sel)\n",
    "conn.commit()\n",
    "sel = \"SELECT rowid, * FROM employee ORDER BY age\"\n",
    "cursor.execute(sel)\n",
    "cursor.fetchall()"
   ]
  },
  {
   "cell_type": "code",
   "execution_count": 20,
   "metadata": {},
   "outputs": [],
   "source": [
    "sel = \"\"\"\n",
    "UPDATE employee\n",
    "SET salary$ = '7000' \n",
    "WHERE age = '25'\n",
    "\"\"\"\n",
    "cursor.execute(sel)\n",
    "conn.commit()"
   ]
  },
  {
   "cell_type": "code",
   "execution_count": 21,
   "metadata": {},
   "outputs": [],
   "source": [
    "sel1 = \"\"\"\n",
    "UPDATE employee\n",
    "SET salary$ = '4000' \n",
    "WHERE age = '29'\n",
    "\"\"\"\n",
    "cursor.execute(sel1)\n",
    "conn.commit()"
   ]
  },
  {
   "cell_type": "code",
   "execution_count": 22,
   "metadata": {},
   "outputs": [
    {
     "data": {
      "text/plain": [
       "[(2, 'Marie Paige', '7000', '25'),\n",
       " (3, 'Megan Flores', '4000', '29'),\n",
       " (1, 'John Doe', '5000', '35')]"
      ]
     },
     "execution_count": 22,
     "metadata": {},
     "output_type": "execute_result"
    }
   ],
   "source": [
    "sel = \"SELECT rowid, * FROM employee ORDER BY age\"\n",
    "cursor.execute(sel)\n",
    "cursor.fetchall()"
   ]
  }
 ],
 "metadata": {
  "kernelspec": {
   "display_name": "Python 3",
   "language": "python",
   "name": "python3"
  },
  "language_info": {
   "codemirror_mode": {
    "name": "ipython",
    "version": 3
   },
   "file_extension": ".py",
   "mimetype": "text/x-python",
   "name": "python",
   "nbconvert_exporter": "python",
   "pygments_lexer": "ipython3",
   "version": "3.7.4"
  }
 },
 "nbformat": 4,
 "nbformat_minor": 4
}
