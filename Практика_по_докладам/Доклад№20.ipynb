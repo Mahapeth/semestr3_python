{
 "cells": [
  {
   "cell_type": "markdown",
   "metadata": {},
   "source": [
    "# Практика по докладу №20\n",
    "\n",
    "## Задание 1\n",
    "Отформатировать числа (321.3, 12345,8974) в (321.3zł, 12345zł,8974zł).zł - Польский злотый"
   ]
  },
  {
   "cell_type": "code",
   "execution_count": 4,
   "metadata": {},
   "outputs": [
    {
     "name": "stdout",
     "output_type": "stream",
     "text": [
      "( 321,30 zł, 12345,00 zł, 8974,00 zł)\n"
     ]
    }
   ],
   "source": [
    "import locale\n",
    "\n",
    "n = (321.3, 12345,8974)\n",
    "locale.setlocale(locale.LC_ALL, 'pl_PL')\n",
    "\n",
    "print('({:>10}, {:>10}, {:>10})'.format(\n",
    "    locale.currency(n[0]),\n",
    "    locale.currency(n[1]),\n",
    "    locale.currency(n[2])))"
   ]
  }
 ],
 "metadata": {
  "kernelspec": {
   "display_name": "Python 3",
   "language": "python",
   "name": "python3"
  },
  "language_info": {
   "codemirror_mode": {
    "name": "ipython",
    "version": 3
   },
   "file_extension": ".py",
   "mimetype": "text/x-python",
   "name": "python",
   "nbconvert_exporter": "python",
   "pygments_lexer": "ipython3",
   "version": "3.7.4"
  }
 },
 "nbformat": 4,
 "nbformat_minor": 2
}
