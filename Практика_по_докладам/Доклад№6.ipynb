{
 "cells": [
  {
   "cell_type": "markdown",
   "metadata": {},
   "source": [
    "# Доклад №6"
   ]
  },
  {
   "cell_type": "markdown",
   "metadata": {},
   "source": [
    "## Задание №1\n",
    "### С помощью модуля datetime определить дату, которая наступит через 10 дней от текущей даты."
   ]
  },
  {
   "cell_type": "code",
   "execution_count": 1,
   "metadata": {},
   "outputs": [
    {
     "name": "stdout",
     "output_type": "stream",
     "text": [
      "2020-10-15\n"
     ]
    }
   ],
   "source": [
    "import datetime\n",
    "print(datetime.date.today() + datetime.timedelta(10))"
   ]
  },
  {
   "cell_type": "markdown",
   "metadata": {},
   "source": [
    "## Задание №2\n",
    "### При помощи модуля time преобразовать текущее время в число секунд с начала эпохи, не используя метод time()."
   ]
  },
  {
   "cell_type": "code",
   "execution_count": 2,
   "metadata": {},
   "outputs": [
    {
     "name": "stdout",
     "output_type": "stream",
     "text": [
      "1601929291.0\n"
     ]
    }
   ],
   "source": [
    "import time\n",
    "print(time.mktime(time.localtime()))"
   ]
  },
  {
   "cell_type": "markdown",
   "metadata": {},
   "source": [
    "## Задание №3\n",
    "### При помощи модуля calendar вывести календарь на 2021 год в виде HTML таблицы в файле под названием \"my_calendar\". А также выяснить, является ли 2021 високостным."
   ]
  },
  {
   "cell_type": "code",
   "execution_count": 6,
   "metadata": {},
   "outputs": [
    {
     "name": "stdout",
     "output_type": "stream",
     "text": [
      "Год невисикосный\n"
     ]
    }
   ],
   "source": [
    "import calendar\n",
    "\n",
    "c = calendar.HTMLCalendar(firstweekday=0)\n",
    "calendarr = c.formatyear(2021, 5)\n",
    "with open('my_calendar.html', 'w') as html_file:\n",
    "    html_file.write(calendarr)\n",
    "    \n",
    "def yearleap(year: int) -> str:\n",
    "    return 'Год високосный' if calendar.isleap(year) else 'Год невисикосный'\n",
    "print(yearleap(2021))"
   ]
  },
  {
   "cell_type": "code",
   "execution_count": null,
   "metadata": {},
   "outputs": [],
   "source": []
  }
 ],
 "metadata": {
  "kernelspec": {
   "display_name": "Python 3",
   "language": "python",
   "name": "python3"
  },
  "language_info": {
   "codemirror_mode": {
    "name": "ipython",
    "version": 3
   },
   "file_extension": ".py",
   "mimetype": "text/x-python",
   "name": "python",
   "nbconvert_exporter": "python",
   "pygments_lexer": "ipython3",
   "version": "3.7.4"
  }
 },
 "nbformat": 4,
 "nbformat_minor": 4
}
