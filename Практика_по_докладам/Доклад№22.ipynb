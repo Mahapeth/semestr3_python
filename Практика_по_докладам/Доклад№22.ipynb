{
 "cells": [
  {
   "cell_type": "markdown",
   "metadata": {},
   "source": [
    "# Практика по докладу №22\n",
    "\n",
    "## Задание 1\n",
    "\n",
    "Создайте любую функцию от нескольких аргументов и:\n",
    "\n",
    "1) Сделайте так, чтоб отладчик запускался из самой программы\n",
    "\n",
    "2) Выведите через отладчик: аргументы функции, ближайшие 10 строк относительно вашей позиции и весь код функции\n",
    "\n",
    "3) Создайте 2 точки останова"
   ]
  },
  {
   "cell_type": "code",
   "execution_count": 2,
   "metadata": {},
   "outputs": [],
   "source": [
    "import pdb\n",
    "\n",
    "def function(a,b):\n",
    "    pdb.set_trace()\n",
    "    print(a+b)"
   ]
  },
  {
   "cell_type": "code",
   "execution_count": 8,
   "metadata": {},
   "outputs": [
    {
     "name": "stdout",
     "output_type": "stream",
     "text": [
      "> <ipython-input-2-e95b7eea958d>(5)function()\n",
      "-> print(a+b)\n",
      "(Pdb) a\n",
      "a = 6\n",
      "b = 8\n",
      "(Pdb) l\n",
      "  1  \timport pdb\n",
      "  2  \t\n",
      "  3  \tdef function(a,b):\n",
      "  4  \t    pdb.set_trace()\n",
      "  5  ->\t    print(a+b)\n",
      "[EOF]\n",
      "(Pdb) ll\n",
      "  3  \tdef function(a,b):\n",
      "  4  \t    pdb.set_trace()\n",
      "  5  ->\t    print(a+b)\n",
      "(Pdb) b 3\n",
      "Breakpoint 2 at <ipython-input-2-e95b7eea958d>:3\n",
      "(Pdb) c\n",
      "14\n"
     ]
    }
   ],
   "source": [
    "function(6,8)"
   ]
  },
  {
   "cell_type": "markdown",
   "metadata": {},
   "source": [
    "## Задание 2\n",
    "\n",
    "С помощью модуля trace создайте отчет о работе любой функции, сохраните этот отчет в формате txt, при этом подсчет числа линий и выполнение линий трассировки должны быть включены."
   ]
  },
  {
   "cell_type": "code",
   "execution_count": 5,
   "metadata": {},
   "outputs": [
    {
     "name": "stdout",
     "output_type": "stream",
     "text": [
      " --- modulename: iostream, funcname: write\n",
      "iostream.py(385):         if self.echo is not None:\n",
      "iostream.py(393):         if self.pub_thread is None:\n",
      "iostream.py(397):             if not isinstance(string, unicode_type):\n",
      "iostream.py(400):             is_child = (not self._is_master_process())\n",
      " --- modulename: iostream, funcname: _is_master_process\n",
      "iostream.py(310):         return os.getpid() == self._master_pid\n",
      "iostream.py(402):             self.pub_thread.schedule(lambda : self._buffer.write(string))\n",
      " --- modulename: iostream, funcname: schedule\n",
      "iostream.py(202):         if self.thread.is_alive():\n",
      " --- modulename: threading, funcname: is_alive\n",
      "threading.py(1100):         assert self._initialized, \"Thread.__init__() not called\"\n",
      "threading.py(1101):         if self._is_stopped or not self._started.is_set():\n",
      " --- modulename: threading, funcname: is_set\n",
      "threading.py(509):         return self._flag\n",
      "threading.py(1103):         self._wait_for_tstate_lock(False)\n",
      " --- modulename: threading, funcname: _wait_for_tstate_lock\n",
      "threading.py(1057):         lock = self._tstate_lock\n",
      "threading.py(1058):         if lock is None:  # already determined that the C code is done\n",
      "threading.py(1060):         elif lock.acquire(block, timeout):\n",
      "threading.py(1104):         return not self._is_stopped\n",
      "iostream.py(203):             self._events.append(f)\n",
      "14iostream.py(205):             self._event_pipe.send(b'')\n",
      " --- modulename: iostream, funcname: _event_pipe\n",
      "iostream.py(96):         try:\n",
      "iostream.py(97):             event_pipe = self._local.event_pipe\n",
      "iostream.py(105):         return event_pipe\n",
      " --- modulename: socket, funcname: send\n",
      "socket.py(390):         if routing_id is not None:\n",
      "socket.py(395):         if group is not None:\n",
      "socket.py(400):         return super(Socket, self).send(data, flags=flags, copy=copy, track=track)\n",
      "iostream.py(403):             if is_child:\n",
      "iostream.py(410):                 self._schedule_flush()\n",
      " --- modulename: iostream, funcname: _schedule_flush\n",
      "iostream.py(327):         if self._flush_pending:\n",
      "iostream.py(328):             return\n",
      " --- modulename: iostream, funcname: write\n",
      "iostream.py(385):         if self.echo is not None:\n",
      "iostream.py(393):         if self.pub_thread is None:\n",
      "iostream.py(397):             if not isinstance(string, unicode_type):\n",
      "iostream.py(400):             is_child = (not self._is_master_process())\n",
      " --- modulename: iostream, funcname: _is_master_process\n",
      "iostream.py(310):         return os.getpid() == self._master_pid\n",
      "iostream.py(402):             self.pub_thread.schedule(lambda : self._buffer.write(string))\n",
      " --- modulename: iostream, funcname: schedule\n",
      "iostream.py(202):         if self.thread.is_alive():\n",
      " --- modulename: threading, funcname: is_alive\n",
      "threading.py(1100):         assert self._initialized, \"Thread.__init__() not called\"\n",
      "threading.py(1101):         if self._is_stopped or not self._started.is_set():\n",
      " --- modulename: threading, funcname: is_set\n",
      "threading.py(509):         return self._flag\n",
      "threading.py(1103):         self._wait_for_tstate_lock(False)\n",
      " --- modulename: threading, funcname: _wait_for_tstate_lock\n",
      "threading.py(1057):         lock = self._tstate_lock\n",
      "threading.py(1058):         if lock is None:  # already determined that the C code is done\n",
      "threading.py(1060):         elif lock.acquire(block, timeout):\n",
      "threading.py(1104):         return not self._is_stopped\n",
      "iostream.py(203):             self._events.append(f)\n",
      "\n",
      "iostream.py(205):             self._event_pipe.send(b'')\n",
      " --- modulename: iostream, funcname: _event_pipe\n",
      "iostream.py(96):         try:\n",
      "iostream.py(97):             event_pipe = self._local.event_pipe\n",
      "iostream.py(105):         return event_pipe\n",
      " --- modulename: socket, funcname: send\n",
      "socket.py(390):         if routing_id is not None:\n",
      "socket.py(395):         if group is not None:\n",
      "socket.py(400):         return super(Socket, self).send(data, flags=flags, copy=copy, track=track)\n",
      "iostream.py(403):             if is_child:\n",
      "iostream.py(410):                 self._schedule_flush()\n",
      " --- modulename: iostream, funcname: _schedule_flush\n",
      "iostream.py(327):         if self._flush_pending:\n",
      "iostream.py(328):             return\n",
      "lines   cov%   module   (path)\n",
      "  254     6%   ipykernel.iostream   (C:\\Users\\think\\AppData\\Local\\Continuum\\anaconda3\\lib\\site-packages\\ipykernel\\iostream.py)\n",
      "  611     1%   threading   (C:\\Users\\think\\AppData\\Local\\Continuum\\anaconda3\\lib\\threading.py)\n",
      "  237     1%   zmq.sugar.socket   (C:\\Users\\think\\AppData\\Local\\Continuum\\anaconda3\\lib\\site-packages\\zmq\\sugar\\socket.py)\n"
     ]
    }
   ],
   "source": [
    "import trace\n",
    "\n",
    "def function1(x,y):  \n",
    "    print(x+y)\n",
    "t = trace.Trace(count = True,\n",
    "                     trace = True,\n",
    "                     outfile = 'report.txt')\n",
    "t.runfunc(function1, 6, 8)\n",
    "report = trace.Trace(count = True,\n",
    "                            trace = True,\n",
    "                            infile = 'report.txt')\n",
    "result = t.results()\n",
    "result.write_results(summary = True, coverdir = 'задание№2')"
   ]
  },
  {
   "cell_type": "code",
   "execution_count": null,
   "metadata": {},
   "outputs": [],
   "source": []
  }
 ],
 "metadata": {
  "kernelspec": {
   "display_name": "Python 3",
   "language": "python",
   "name": "python3"
  },
  "language_info": {
   "codemirror_mode": {
    "name": "ipython",
    "version": 3
   },
   "file_extension": ".py",
   "mimetype": "text/x-python",
   "name": "python",
   "nbconvert_exporter": "python",
   "pygments_lexer": "ipython3",
   "version": "3.7.4"
  }
 },
 "nbformat": 4,
 "nbformat_minor": 2
}
