{
 "cells": [
  {
   "cell_type": "markdown",
   "metadata": {},
   "source": [
    "# Практика по докладу №18\n",
    "\n",
    "## Задания\n",
    "\n",
    "1) Не используя библиотеку UUID создать уникальную 12-ти символьную строку, используя латиницу, цифры, а также сегодняшнюю дату и время.\n",
    "\n",
    "2)Создайте функцию в которой пользователь вводит ссылку сайта и получает данные cookie по странице.\n",
    "\n",
    "3)Решите проблему с webbrowser, так чтоб можно было несколько ссылок открывать в одном браузере, пример неправильного выполнения ниже."
   ]
  },
  {
   "cell_type": "code",
   "execution_count": 7,
   "metadata": {},
   "outputs": [
    {
     "name": "stdout",
     "output_type": "stream",
     "text": [
      "d9855f759406\n"
     ]
    }
   ],
   "source": [
    "import secrets\n",
    "\n",
    "print(secrets.token_hex(6))"
   ]
  },
  {
   "cell_type": "code",
   "execution_count": 11,
   "metadata": {},
   "outputs": [
    {
     "name": "stdout",
     "output_type": "stream",
     "text": [
      "Введите ссылку:https://en.wikipedia.org/wiki/Python_(programming_language)\n",
      "GeoIP RU:SPE:St_Petersburg:59.89:30.26:v4\n",
      "WMF-Last-Access-Global 10-Dec-2020\n",
      "WMF-Last-Access 10-Dec-2020\n"
     ]
    }
   ],
   "source": [
    "import http.cookiejar\n",
    "from urllib.request import Request, build_opener, HTTPCookieProcessor, HTTPHandler, HTTPSHandler\n",
    "\n",
    "url = input('Введите ссылку:' )\n",
    "\n",
    "cookies = http.cookiejar.LWPCookieJar()\n",
    "\n",
    "handlers = [\n",
    "    HTTPHandler(),\n",
    "    HTTPSHandler(),\n",
    "    HTTPCookieProcessor(cookies)\n",
    "    ]\n",
    "o = build_opener(*handlers)\n",
    "\n",
    "\n",
    "def fetch(url):\n",
    "    request = Request(url)\n",
    "    return o.open(request)\n",
    "\n",
    "def dump():\n",
    "    for i in cookies:\n",
    "        print(i.name, i.value)\n",
    "\n",
    "res = fetch(url)\n",
    "dump()"
   ]
  },
  {
   "cell_type": "code",
   "execution_count": 12,
   "metadata": {},
   "outputs": [
    {
     "name": "stdout",
     "output_type": "stream",
     "text": [
      "Введите ссылку или запрос: яблоки\n"
     ]
    }
   ],
   "source": [
    "import webbrowser\n",
    "\n",
    "call = input('Введите ссылку или запрос: ')\n",
    "\n",
    "if '.' in call:\n",
    "    webbrowser.open_new_tab('https://' + call)\n",
    "else:\n",
    "    webbrowser.open_new_tab('https://yandex.ru/search/?text=' + call)"
   ]
  },
  {
   "cell_type": "code",
   "execution_count": null,
   "metadata": {},
   "outputs": [],
   "source": []
  }
 ],
 "metadata": {
  "kernelspec": {
   "display_name": "Python 3",
   "language": "python",
   "name": "python3"
  },
  "language_info": {
   "codemirror_mode": {
    "name": "ipython",
    "version": 3
   },
   "file_extension": ".py",
   "mimetype": "text/x-python",
   "name": "python",
   "nbconvert_exporter": "python",
   "pygments_lexer": "ipython3",
   "version": "3.7.4"
  }
 },
 "nbformat": 4,
 "nbformat_minor": 2
}
