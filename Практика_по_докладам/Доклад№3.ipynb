{
 "cells": [
  {
   "cell_type": "markdown",
   "metadata": {},
   "source": [
    "# Доклад №3"
   ]
  },
  {
   "cell_type": "markdown",
   "metadata": {},
   "source": [
    "## Задание №1\n",
    "### Создать кучу из 10 случайных чисел и вывести наименьшие числа с 4 по 6 (порядковые номера изначальной кучи)."
   ]
  },
  {
   "cell_type": "code",
   "execution_count": 2,
   "metadata": {},
   "outputs": [
    {
     "name": "stdout",
     "output_type": "stream",
     "text": [
      "[11 45 39 84 90 87  4 10  7 44]\n",
      "[84, 87, 90]\n"
     ]
    }
   ],
   "source": [
    "import heapq\n",
    "import numpy \n",
    "\n",
    "listt = numpy.random.randint(1,100,10)\n",
    "print(listt)\n",
    "\n",
    "print(heapq.nsmallest(3, listt[3:6]))"
   ]
  },
  {
   "cell_type": "markdown",
   "metadata": {},
   "source": [
    "## Задание №2\n",
    "### Создать очередь с приоритетом из 3 элементов, вывести ее. Затем добавить еще один элемент и вывести конечный вариант очереди."
   ]
  },
  {
   "cell_type": "code",
   "execution_count": 11,
   "metadata": {},
   "outputs": [
    {
     "name": "stdout",
     "output_type": "stream",
     "text": [
      "0\n",
      "1\n",
      "2\n",
      "19\n"
     ]
    }
   ],
   "source": [
    "import queue\n",
    "que = queue.Queue()\n",
    "a = range(3)\n",
    "for i in a:\n",
    "    que.put(i)\n",
    "while not que.empty():\n",
    "    print(que.get())\n",
    "que.put(19)\n",
    "while not que.empty():\n",
    "    print(que.get())"
   ]
  },
  {
   "cell_type": "markdown",
   "metadata": {},
   "source": [
    "## Задание №3\n",
    "### Создать отсортированный список из 10 элементов, ввести некоторое чисто а. Найти позицию а, если вставлять его в список как можно правее, а затем добавить его в список как можно левее."
   ]
  },
  {
   "cell_type": "code",
   "execution_count": 13,
   "metadata": {},
   "outputs": [
    {
     "name": "stdout",
     "output_type": "stream",
     "text": [
      "[1, 1, 5, 9, 30, 32, 33, 39, 40, 46]\n"
     ]
    },
    {
     "name": "stdin",
     "output_type": "stream",
     "text": [
      " 2\n"
     ]
    },
    {
     "name": "stdout",
     "output_type": "stream",
     "text": [
      "[1, 1, 2, 5, 9, 30, 32, 33, 39, 40, 46]\n",
      "[1, 1, 2, 2, 5, 9, 30, 32, 33, 39, 40, 46]\n",
      "4\n"
     ]
    }
   ],
   "source": [
    "import bisect\n",
    "listt1 = numpy.random.randint(1,50,10)\n",
    "listt = sorted(listt1)\n",
    "print(listt)\n",
    "i = int(input())\n",
    "bisect.insort(listt, i)\n",
    "print(listt)\n",
    "bisect.insort_left(listt, i)\n",
    "print(listt)\n",
    "position = bisect.bisect(listt, i)\n",
    "print(position)"
   ]
  },
  {
   "cell_type": "code",
   "execution_count": null,
   "metadata": {},
   "outputs": [],
   "source": []
  }
 ],
 "metadata": {
  "kernelspec": {
   "display_name": "Python 3",
   "language": "python",
   "name": "python3"
  },
  "language_info": {
   "codemirror_mode": {
    "name": "ipython",
    "version": 3
   },
   "file_extension": ".py",
   "mimetype": "text/x-python",
   "name": "python",
   "nbconvert_exporter": "python",
   "pygments_lexer": "ipython3",
   "version": "3.7.4"
  }
 },
 "nbformat": 4,
 "nbformat_minor": 4
}
