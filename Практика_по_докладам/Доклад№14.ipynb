{
 "cells": [
  {
   "cell_type": "markdown",
   "metadata": {},
   "source": [
    "# Практика по докладу №14\n",
    "\n",
    "## Задание \n",
    "\n",
    "Испльзуя класс **Popen** запустите процесс notepad.exe передайте процессу timeout=3, если процесс завершится до истечения времени, то выведите строчку \"Успех!\", иначе отловите ошибку TimeoutExpired и вывидите \"Провал!\"."
   ]
  },
  {
   "cell_type": "code",
   "execution_count": 11,
   "metadata": {},
   "outputs": [
    {
     "data": {
      "text/plain": [
       "True"
      ]
     },
     "execution_count": 11,
     "metadata": {},
     "output_type": "execute_result"
    }
   ],
   "source": [
    "import os\n",
    "os.path.exists(\"C:\\\\Windows\\\\System32\\\\notepad.exe\")"
   ]
  },
  {
   "cell_type": "code",
   "execution_count": 12,
   "metadata": {},
   "outputs": [
    {
     "name": "stdout",
     "output_type": "stream",
     "text": [
      "Success!\n"
     ]
    }
   ],
   "source": [
    "import subprocess\n",
    "\n",
    "notepad = subprocess.Popen(\"C:\\\\Windows\\\\System32\\\\notepad.exe\")\n",
    "\n",
    "try:\n",
    "    outt, err = notepad.communicate(input = None, timeout = 3)\n",
    "    print('Success!')\n",
    "except TimeoutExpired:\n",
    "    notepad.kill()\n",
    "    outt,err = proc.communicate()\n",
    "    print('Fail!')\n",
    "\n"
   ]
  },
  {
   "cell_type": "code",
   "execution_count": null,
   "metadata": {},
   "outputs": [],
   "source": []
  }
 ],
 "metadata": {
  "kernelspec": {
   "display_name": "Python 3",
   "language": "python",
   "name": "python3"
  },
  "language_info": {
   "codemirror_mode": {
    "name": "ipython",
    "version": 3
   },
   "file_extension": ".py",
   "mimetype": "text/x-python",
   "name": "python",
   "nbconvert_exporter": "python",
   "pygments_lexer": "ipython3",
   "version": "3.7.4"
  }
 },
 "nbformat": 4,
 "nbformat_minor": 2
}
