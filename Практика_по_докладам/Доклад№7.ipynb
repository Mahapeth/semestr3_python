{
 "cells": [
  {
   "cell_type": "markdown",
   "metadata": {},
   "source": [
    "# Практика по докладу №7"
   ]
  },
  {
   "cell_type": "markdown",
   "metadata": {},
   "source": [
    "## Задание №1"
   ]
  },
  {
   "cell_type": "markdown",
   "metadata": {},
   "source": [
    "Числа decimal можно смешивать с целыми числами, в случае чисел вещественных будет ошибка."
   ]
  },
  {
   "cell_type": "markdown",
   "metadata": {},
   "source": [
    "## Задание №2"
   ]
  },
  {
   "cell_type": "code",
   "execution_count": 15,
   "metadata": {},
   "outputs": [
    {
     "name": "stdout",
     "output_type": "stream",
     "text": [
      "x.numerator возвращает числитель дроби. x.denominator возвращает знаменатель дроби. Fraction.from_float(flt) принимает flt – число типа float и возвращает обыкновенную дробь отношение числителя к знаменателю которой максимально приближается к значению flt. Fraction.from_decimal(dec) создает обыкновенную дробь, которая является точным представлением десятичной дроби указанной в dec, где dec – это экземпляр класса decimal.Decimal. Fraction.limit_denominator(max_denominator=10...) floor, ceil, round\n"
     ]
    }
   ],
   "source": [
    "print(\"x.numerator возвращает числитель дроби. x.denominator возвращает знаменатель дроби. Fraction.from_float(flt) принимает flt – число типа float и возвращает обыкновенную дробь отношение числителя к знаменателю которой максимально приближается к значению flt. Fraction.from_decimal(dec) создает обыкновенную дробь, которая является точным представлением десятичной дроби указанной в dec, где dec – это экземпляр класса decimal.Decimal. Fraction.limit_denominator(max_denominator=10...) floor, ceil, round\")"
   ]
  },
  {
   "cell_type": "markdown",
   "metadata": {},
   "source": [
    "## Задание №3"
   ]
  },
  {
   "cell_type": "code",
   "execution_count": 13,
   "metadata": {},
   "outputs": [
    {
     "name": "stdout",
     "output_type": "stream",
     "text": [
      "Step - шаг. Не обязателен для задания.\n"
     ]
    }
   ],
   "source": [
    "print(\"Step - шаг. Не обязателен для задания.\")"
   ]
  },
  {
   "cell_type": "markdown",
   "metadata": {},
   "source": [
    "## Задача №4"
   ]
  },
  {
   "cell_type": "code",
   "execution_count": 12,
   "metadata": {},
   "outputs": [
    {
     "name": "stdout",
     "output_type": "stream",
     "text": [
      "10 35\n"
     ]
    }
   ],
   "source": [
    "from decimal import Decimal\n",
    "x = Decimal('10.35')\n",
    "a = int(x)\n",
    "b = int(100 * (x - a))\n",
    "print(a, b)"
   ]
  },
  {
   "cell_type": "code",
   "execution_count": 10,
   "metadata": {},
   "outputs": [
    {
     "name": "stdout",
     "output_type": "stream",
     "text": [
      "1 99\n"
     ]
    }
   ],
   "source": [
    "from decimal import Decimal\n",
    "x = Decimal('1.99')\n",
    "a = int(x)\n",
    "b = int(100 * (x - a))\n",
    "print(a, b)"
   ]
  },
  {
   "cell_type": "code",
   "execution_count": 11,
   "metadata": {},
   "outputs": [
    {
     "name": "stdout",
     "output_type": "stream",
     "text": [
      "3 50\n"
     ]
    }
   ],
   "source": [
    "from decimal import Decimal\n",
    "x = Decimal('3.50')\n",
    "a = int(x)\n",
    "b = int(100 * (x - a))\n",
    "print(a, b)"
   ]
  },
  {
   "cell_type": "markdown",
   "metadata": {},
   "source": [
    "## Задача №5"
   ]
  },
  {
   "cell_type": "code",
   "execution_count": 17,
   "metadata": {},
   "outputs": [
    {
     "data": {
      "text/plain": [
       "10"
      ]
     },
     "execution_count": 17,
     "metadata": {},
     "output_type": "execute_result"
    }
   ],
   "source": [
    "import random\n",
    "random.choice([6,7,8,9,10,11,12])"
   ]
  }
 ],
 "metadata": {
  "kernelspec": {
   "display_name": "Python 3",
   "language": "python",
   "name": "python3"
  },
  "language_info": {
   "codemirror_mode": {
    "name": "ipython",
    "version": 3
   },
   "file_extension": ".py",
   "mimetype": "text/x-python",
   "name": "python",
   "nbconvert_exporter": "python",
   "pygments_lexer": "ipython3",
   "version": "3.7.4"
  }
 },
 "nbformat": 4,
 "nbformat_minor": 4
}
