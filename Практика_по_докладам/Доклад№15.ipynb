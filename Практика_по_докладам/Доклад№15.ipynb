{
 "cells": [
  {
   "cell_type": "markdown",
   "metadata": {},
   "source": [
    "# Практика по докладу №15\n",
    "\n",
    "## Задание\n",
    "\n",
    "При помощи модуля **threading** создайте два потока, один поток пусть выполняет функцию сложения двух чисел, второй пусть умножает два числа."
   ]
  },
  {
   "cell_type": "code",
   "execution_count": 6,
   "metadata": {},
   "outputs": [
    {
     "name": "stdout",
     "output_type": "stream",
     "text": [
      "12\n",
      "8\n"
     ]
    }
   ],
   "source": [
    "import threading\n",
    "\n",
    "def function_plus(x, y):\n",
    "    print(x + y)\n",
    "\n",
    "def function_times(x, y):\n",
    "    print(x * y)\n",
    "\n",
    "th = threading.Thread(target=function_plus, args=(5, 7))\n",
    "thread = threading.Thread(target=function_times, args=(2, 4))\n",
    "\n",
    "th.start()\n",
    "thread.start()"
   ]
  }
 ],
 "metadata": {
  "kernelspec": {
   "display_name": "Python 3",
   "language": "python",
   "name": "python3"
  },
  "language_info": {
   "codemirror_mode": {
    "name": "ipython",
    "version": 3
   },
   "file_extension": ".py",
   "mimetype": "text/x-python",
   "name": "python",
   "nbconvert_exporter": "python",
   "pygments_lexer": "ipython3",
   "version": "3.7.4"
  }
 },
 "nbformat": 4,
 "nbformat_minor": 2
}
