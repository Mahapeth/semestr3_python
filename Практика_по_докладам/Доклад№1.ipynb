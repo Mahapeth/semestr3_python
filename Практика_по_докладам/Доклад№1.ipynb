{
 "cells": [
  {
   "cell_type": "markdown",
   "metadata": {},
   "source": [
    "# Доклад №1"
   ]
  },
  {
   "cell_type": "markdown",
   "metadata": {},
   "source": [
    "## Задание 1\n",
    "Выделите общую часть из двух строк с помощью модуля difflib:  \n",
    "s1 = u'А роза упала на лапу Азора'  \n",
    "s2 = u'Дай, Джим, на счастье лапу мне'  "
   ]
  },
  {
   "cell_type": "code",
   "execution_count": 1,
   "metadata": {},
   "outputs": [
    {
     "name": "stdout",
     "output_type": "stream",
     "text": [
      " лапу \n"
     ]
    }
   ],
   "source": [
    "from difflib import SequenceMatcher\n",
    "s1 = u'А роза упала на лапу Азора'\n",
    "s2 = u'Дай, Джим, на счастье лапу мне'\n",
    "sm = SequenceMatcher(None, s1, s2)\n",
    "flm = sm.find_longest_match(0, len(s1), 0, len(s2))\n",
    "print(s1[flm.a : flm.b])"
   ]
  },
  {
   "cell_type": "markdown",
   "metadata": {},
   "source": [
    "## Задание 2\n",
    "Дана строка, содержащая натуральные числа и слова. Необходимо сформировать список из чисел, содержащихся в этой строке.\n",
    "Например, зада\n",
    "на строка \"abc83 cde7 1 b 24\".\n",
    "На выходе мы должны получить список [83, 7, 1, 24]"
   ]
  },
  {
   "cell_type": "code",
   "execution_count": 2,
   "metadata": {},
   "outputs": [
    {
     "name": "stdin",
     "output_type": "stream",
     "text": [
      " abc83 cde7 1 b 24\n"
     ]
    },
    {
     "name": "stdout",
     "output_type": "stream",
     "text": [
      "[83, 7, 1, 24]\n"
     ]
    }
   ],
   "source": [
    "import re\n",
    "arg = str(input())\n",
    "res = re.findall(r'\\d+', arg)\n",
    "res = [int(x) for x in res]\n",
    "print(res)"
   ]
  },
  {
   "cell_type": "markdown",
   "metadata": {},
   "source": [
    "## Задание 3\n",
    "Нужно ввести предложение и сделать динамическую границу вокруг этого предложения. Граница должна иметь ширину, которая вводится. Когда длина предложения превышает заданную ширину, необходимо напечатать новую строку и изменить высоту границы. Предложение также должно быть центрировано в динамической границе."
   ]
  },
  {
   "cell_type": "code",
   "execution_count": 4,
   "metadata": {},
   "outputs": [
    {
     "name": "stdin",
     "output_type": "stream",
     "text": [
      " Последствия любого поступка содержатся в самом поступке.\n",
      " 56\n"
     ]
    },
    {
     "name": "stdout",
     "output_type": "stream",
     "text": [
      "+----------------------------------------------------------+\n",
      "| Последствия любого поступка содержатся в самом поступке. |\n",
      "+----------------------------------------------------------+\n"
     ]
    }
   ],
   "source": [
    "import textwrap\n",
    "slovo = input()\n",
    "width = int(input())\n",
    "a = '+-' + '-' * width + '-+'\n",
    "b = [slovo[x :width + x] for x in range(0, len(slovo), width)]\n",
    "print(a)\n",
    "for line in b:\n",
    "    print(f'| {line.center(width)} |')\n",
    "print(a)"
   ]
  }
 ],
 "metadata": {
  "kernelspec": {
   "display_name": "Python 3",
   "language": "python",
   "name": "python3"
  },
  "language_info": {
   "codemirror_mode": {
    "name": "ipython",
    "version": 3
   },
   "file_extension": ".py",
   "mimetype": "text/x-python",
   "name": "python",
   "nbconvert_exporter": "python",
   "pygments_lexer": "ipython3",
   "version": "3.7.4"
  }
 },
 "nbformat": 4,
 "nbformat_minor": 4
}
