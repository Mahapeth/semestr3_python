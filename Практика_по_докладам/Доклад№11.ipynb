{
 "cells": [
  {
   "cell_type": "markdown",
   "metadata": {},
   "source": [
    "# Практические задания по докладу №11"
   ]
  },
  {
   "cell_type": "markdown",
   "metadata": {},
   "source": [
    "## Задание 1\n",
    "С помощью представленных модулей выполнить следующие задания:\n",
    "\n",
    "1) предварительно создать в текущей директории произвольный текстовый файл, с которым будем работать\n",
    "\n",
    "2) скопировать файл в другой файл и проверить, что они совпадают\n",
    "\n",
    "3) создать архив из скопированного файла\n",
    "\n",
    "4) с помощью mmap прочитать изначальный файл (получится байт строка) и декодировать её (дабы избежать ошибок, рекомендую использовать errors = \"ignore\")"
   ]
  },
  {
   "cell_type": "code",
   "execution_count": null,
   "metadata": {},
   "outputs": [
    {
     "name": "stdout",
     "output_type": "stream",
     "text": [
      "True\n"
     ]
    }
   ],
   "source": [
    "import os\n",
    "import mmap\n",
    "import shutil as sh\n",
    "import codecs as cd\n",
    "import filecmp as fl\n",
    "\n",
    "def work_with_txt():\n",
    "    \n",
    "    with open('text.txt', 'w', encoding='utf-8') as file:\n",
    "        file.write('Образец данных для записи в файл')\n",
    "    sh.copyfile('text.txt', 'textcopy.txt') \n",
    "    print(fl.cmp('text.txt', 'textcopy.txt'))\n",
    "    sh.make_archive('archive', 'zip', os.getcwd()) \n",
    "    with open('text.txt', 'r', encoding='utf-8') as file:                        \n",
    "        with mmap.mmap(file.fileno(), length =0, access = mmap.ACCESS_READ) as mmapp:\n",
    "            text = mmapp.read()  \n",
    "    print(text)\n",
    "    print(cd.decode(text, encoding='utf-8', errors='ignore'))                     \n",
    "    \n",
    "work_with_txt()"
   ]
  }
 ],
 "metadata": {
  "kernelspec": {
   "display_name": "Python 3",
   "language": "python",
   "name": "python3"
  },
  "language_info": {
   "codemirror_mode": {
    "name": "ipython",
    "version": 3
   },
   "file_extension": ".py",
   "mimetype": "text/x-python",
   "name": "python",
   "nbconvert_exporter": "python",
   "pygments_lexer": "ipython3",
   "version": "3.7.4"
  }
 },
 "nbformat": 4,
 "nbformat_minor": 4
}
