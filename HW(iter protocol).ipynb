{
 "cells": [
  {
   "cell_type": "markdown",
   "metadata": {},
   "source": [
    "# Домашнее задание №1"
   ]
  },
  {
   "cell_type": "code",
   "execution_count": 8,
   "metadata": {},
   "outputs": [
    {
     "name": "stdout",
     "output_type": "stream",
     "text": [
      "[1, 1, 1, 1, 2, 2, 1, 1, 1, 3, 3, 3, 3]\n",
      "[1, 1, 1, 1, 2, 2, 1, 1, 1, 3, 3, 3, 3]\n",
      "True\n"
     ]
    }
   ],
   "source": [
    "class CompressedList(list):\n",
    "    def __iter__(self):\n",
    "        return ComressedListIterator(self)\n",
    "class ComressedListIterator:\n",
    "    def __init__(self, arr):\n",
    "        self.arr = arr\n",
    "        self.counter = 0\n",
    "        self.index = 0\n",
    "    def __next__(self):\n",
    "        if self.index >= len(self.arr):\n",
    "            raise StopIteration\n",
    "        if self.counter < self.arr[self.index][1] - 1:\n",
    "            self.counter += 1\n",
    "            return self.arr[self.index][0]\n",
    "        else:\n",
    "            self.counter = 0\n",
    "            self.index += 1\n",
    "            return self.arr[self.index - 1][0]\n",
    "original = [1, 1, 1, 1, 2, 2, 1, 1, 1, 3, 3, 3, 3]\n",
    "compressed = CompressedList([(1, 4), (2, 2), (1, 3), (3, 4)])\n",
    "decompressed = [x for x in compressed]\n",
    "print(original)\n",
    "print(decompressed)\n",
    "print(original == decompressed)"
   ]
  },
  {
   "cell_type": "markdown",
   "metadata": {},
   "source": [
    "## Задание 1"
   ]
  },
  {
   "cell_type": "code",
   "execution_count": 9,
   "metadata": {},
   "outputs": [
    {
     "name": "stdout",
     "output_type": "stream",
     "text": [
      "[1, 1, 1, 1, 2, 2, 1, 1, 1, 3, 3, 3, 3]\n",
      "[1, 1, 1, 1, 2, 2, 1, 1, 1, 3, 3, 3, 3]\n",
      "True\n"
     ]
    }
   ],
   "source": [
    "class CompressedList(list):\n",
    "    def __iter__(self):\n",
    "        return ComressedListIterator(self)\n",
    "class ComressedListIterator:\n",
    "    def __init__(self, arr):\n",
    "        self.arr = arr\n",
    "        self.counter = 0\n",
    "        self.index = 0\n",
    "        self.length = len(arr)\n",
    "    def __next__(self):\n",
    "        if self.index != self.length:\n",
    "            if self.counter + 1  != self.arr[self.index][1]:\n",
    "                self.counter += 1\n",
    "                return self.arr[self.index][0]\n",
    "            else:\n",
    "                self.counter = 0\n",
    "                self.index += 1\n",
    "                return self.arr[self.index - 1][0] \n",
    "        else:\n",
    "            raise StopIteration()\n",
    "original = [1, 1, 1, 1, 2, 2, 1, 1, 1, 3, 3, 3, 3]\n",
    "compressed = CompressedList([(1, 4), (2, 2), (1, 3), (3, 4)])\n",
    "decompressed = [x for x in compressed]\n",
    "print(original)\n",
    "print(decompressed)\n",
    "print(original == decompressed)"
   ]
  },
  {
   "cell_type": "markdown",
   "metadata": {},
   "source": [
    "## Задание 2 "
   ]
  },
  {
   "cell_type": "code",
   "execution_count": 19,
   "metadata": {},
   "outputs": [
    {
     "data": {
      "text/plain": [
       "[0, 1, 2]"
      ]
     },
     "execution_count": 19,
     "metadata": {},
     "output_type": "execute_result"
    }
   ],
   "source": [
    "def ArithProgress(frst, st, a):\n",
    "    n = 1\n",
    "    current = frst - st\n",
    "    while n <= a:\n",
    "        current += st\n",
    "        yield current\n",
    "        n += 1\n",
    "ac = ArithProgress(0, 1, 3)\n",
    "list(ac)"
   ]
  },
  {
   "cell_type": "code",
   "execution_count": 20,
   "metadata": {},
   "outputs": [
    {
     "data": {
      "text/plain": [
       "[1.0, 1.5, 2.0, 2.5]"
      ]
     },
     "execution_count": 20,
     "metadata": {},
     "output_type": "execute_result"
    }
   ],
   "source": [
    "ap = ArithProgress(1,.5,4)\n",
    "list(ap)"
   ]
  },
  {
   "cell_type": "code",
   "execution_count": null,
   "metadata": {},
   "outputs": [],
   "source": []
  }
 ],
 "metadata": {
  "kernelspec": {
   "display_name": "Python 3",
   "language": "python",
   "name": "python3"
  },
  "language_info": {
   "codemirror_mode": {
    "name": "ipython",
    "version": 3
   },
   "file_extension": ".py",
   "mimetype": "text/x-python",
   "name": "python",
   "nbconvert_exporter": "python",
   "pygments_lexer": "ipython3",
   "version": "3.7.4"
  }
 },
 "nbformat": 4,
 "nbformat_minor": 4
}
